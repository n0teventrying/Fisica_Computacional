{
 "cells": [
  {
   "cell_type": "code",
   "execution_count": 31,
   "metadata": {},
   "outputs": [],
   "source": [
    "# TAREA 5, Física Computacional.\n",
    "# Fernando Maximiliano López Villegas, 316289201"
   ]
  },
  {
   "cell_type": "code",
   "execution_count": 32,
   "metadata": {},
   "outputs": [],
   "source": [
    "# 1. Descomposición de LU."
   ]
  },
  {
   "cell_type": "code",
   "execution_count": 33,
   "metadata": {},
   "outputs": [],
   "source": [
    "from pylab import*"
   ]
  },
  {
   "cell_type": "code",
   "execution_count": 34,
   "metadata": {},
   "outputs": [
    {
     "name": "stdout",
     "output_type": "stream",
     "text": [
      "[ 1.56521739  0.79130435 -1.65217391  1.8173913 ]\n"
     ]
    }
   ],
   "source": [
    "# a) Escriba un programa que calcule la descomposición de LU a partir del hecho en clase.\n",
    "\n",
    "\n",
    "#Bueno, yo no asistí a esas clases pero aquí mi programa que es solo una copia en mis palabras del Newman.\n",
    "A = array([[0,1,4,1],\n",
    "           [0,4,-1,-1],\n",
    "           [1,0,1,5],\n",
    "           [2,-2,0,3]],float)\n",
    "v = array([-4,3,9,7],float)\n",
    "N = len(v)\n",
    "#Gauss Elimination\n",
    "for m in range(N):\n",
    "    div = A[m,m]\n",
    "#Partial Pivoting\n",
    "    if div == 0:\n",
    "        for w in range(m+1,N):\n",
    "            if A[w,m] != 0:\n",
    "                #temp = empty(N,float)\n",
    "#Swapping rows                \n",
    "                tempA = A[m,:].copy()\n",
    "                A[m,:] = A[w,:]\n",
    "                A[w,:] = tempA\n",
    "#Swapping v's \n",
    "                tempv = v[m].copy()\n",
    "                v[m] = v[w]\n",
    "                v[w] = tempv\n",
    "#al parecer si no usamos el .copy(), es una referencia y no una variable inmutable\n",
    "#me tardé un rato en darme cuenta, pensé que estaba identando mal la cosa xD.\n",
    "#En java no pasa eso, pero bueno, y algo muy asqueroso, que no usare porque no me acostumbro es:\n",
    "#A[[m, w], :] = A[[w, m], :]\n",
    "#lo vemos y hace sentido, pero amigo, no se me habia ocurrido manipular asi los rows.\n",
    "                break\n",
    "            else:\n",
    "                continue\n",
    "    div = A[m,m]\n",
    "    A[m,:] /= div \n",
    "    v[m] /= div\n",
    "    for i in range(m+1,N):\n",
    "        mult = A[i,m]\n",
    "        A[i,:] -= mult*A[m,:] \n",
    "        v[i] -= mult*v[m] \n",
    "#Backsubstitution\n",
    "x = empty(N,float)\n",
    "for m in range(N-1,-1,-1):\n",
    "    x[m] = v[m]\n",
    "    for i in range(m+1,N):\n",
    "        x[m] -= A[m,i]*x[i]\n",
    "print(x)\n",
    "\n"
   ]
  },
  {
   "cell_type": "code",
   "execution_count": 35,
   "metadata": {},
   "outputs": [],
   "source": [
    "#Se suponia que iba a poner mis desarrollos en la notebook, pero mejor voy a adjuntar un PDF, se me hace muy pesado\n",
    "#a la vista tener código y 300 lineas de LateX solo porque si.\n",
    "\n",
    "\n",
    "A = array([[2,1,4,1],\n",
    "           [3,4,-1,-1],\n",
    "           [1,-4,1,5],\n",
    "           [2,-2,1,3]],float)\n",
    "O  = A.copy() #Debemos mantener una referencia a la matriz A original pues al final del programa no es la misma.\n",
    "\n",
    "v = array([-4,3,9,7],float)\n",
    "vcopy = v.copy() #lo mismo que A\n",
    "\n",
    "N = len(v)\n",
    "######################################################\n",
    "#Creación del hogar de las matrices L_{i} y L_{i}^{-1}\n",
    "U = []\n",
    "L = []\n",
    "for i in range(N):\n",
    "        L.append(np.zeros((N,N),float))\n",
    "        U.append(np.zeros((N,N),float))\n",
    "######################################################        \n",
    "#Pivoting\n",
    "#Hacemos el Pivoting antes porque como ya he dicho la amtriz A debe ser manipulable antes de comenzar \n",
    "#la descomposición LU\n",
    "for m in range(N):\n",
    "    div = A[m,m]\n",
    "    if div == 0:\n",
    "        for w in range(m+1,N):\n",
    "            if A[w,m] != 0:            \n",
    "                tempA = A[m,:].copy()\n",
    "                A[m,:] = A[w,:]\n",
    "                A[w,:] = tempA\n",
    "                tempv = v[m].copy()\n",
    "                v[m] = v[w]\n",
    "                v[w] = tempv\n",
    "                break\n",
    "            else:\n",
    "                continue\n",
    "##################################################\n",
    "#Gauss Elimination\n",
    "for m in range(N):   \n",
    "    ######################################\n",
    "    #Creación de las matrices L_{i}, U_{i}\n",
    "    W = L[m] \n",
    "    Q = U[m]\n",
    "    z = 1/A[m,m].copy()\n",
    "    #diagonal\n",
    "    for p in range(N):\n",
    "         if p == m:\n",
    "             W[p,p] = z\n",
    "             Q[p,p]  = A[m,m].copy()\n",
    "         else:\n",
    "             W[p,p] = A[m,m].copy()*z\n",
    "             Q[p,p] = 1\n",
    "    #renglón\n",
    "    for p in range(m+1,N):\n",
    "        W[p,m] = -A[p,m].copy()*z\n",
    "        Q[p,m] = A[p,m].copy()\n",
    "    ######################################\n",
    "    div = A[m,m]\n",
    "    A[m,:] /= div \n",
    "    v[m] /= div\n",
    "    for i in range(m+1,N):\n",
    "        mult = A[i,m]\n",
    "        A[i,:] -= mult*A[m,:] \n",
    "        v[i] -= mult*v[m] \n",
    "######################################################\n",
    "# Aquí ahora debemos armar la matriz L, y U, que si bien podriamos habernos \n",
    "#ahorrado las molestias, al momento de comentar me doy cuenta de que hice un revoltijo con la notación, en el github tengo \n",
    "#toda la historia de este código si quieren ver cuantas veces fue abortado.\n",
    "# #Abuso de notación\n",
    "\n",
    "import numpy as np\n",
    "Normales = L # Las que no están invertidas pues\n",
    "NormalesMult = Normales[-1]\n",
    "for i in range(len(Normales)-2, -1, -1):\n",
    "    NormalesMult = np.dot(NormalesMult, Normales[i])\n",
    "Inversas  = U # Aca le falta la A, pero se entiende\n",
    "InversasMult = Inversas[0]\n",
    "for i in range(1, len(U)):\n",
    "    InversasMult = np.dot(InversasMult, Inversas[i])\n",
    "######################################################\n",
    "#Se que me van a decir que esto puede causar muchos errores, pero si vieran como salen estas matrices, me darian la razón\n",
    "#les voy a truncar los digitos hasta 5.\n",
    "\n",
    "MatrizL = InversasMult\n",
    "MatrizU = np.dot(NormalesMult,O) #listo, por eso ocupabamos guardar la A en O\n",
    "#siendo honestos, creo que la unica que deberia ser truncada es la U, la L estaba bien, le hago más daño truncandola\n",
    "#MatrizL_truncada = np.trunc(MatrizL * (10 ** 5)) / (10 ** 5)\n",
    "MatrizU_truncada = np.trunc(MatrizU * (10 ** 5)) / (10 ** 5)"
   ]
  },
  {
   "cell_type": "code",
   "execution_count": 36,
   "metadata": {},
   "outputs": [],
   "source": [
    "# b) Prueba tu programa para obtener L, U"
   ]
  },
  {
   "cell_type": "code",
   "execution_count": 37,
   "metadata": {},
   "outputs": [
    {
     "data": {
      "text/plain": [
       "array([[  2. ,   0. ,   0. ,   0. ],\n",
       "       [  3. ,   2.5,   0. ,   0. ],\n",
       "       [  1. ,  -4.5, -13.6,   0. ],\n",
       "       [  2. ,  -3. , -11.4,  -1. ]])"
      ]
     },
     "execution_count": 37,
     "metadata": {},
     "output_type": "execute_result"
    }
   ],
   "source": [
    "# l\n",
    "MatrizL"
   ]
  },
  {
   "cell_type": "code",
   "execution_count": 38,
   "metadata": {},
   "outputs": [
    {
     "data": {
      "text/plain": [
       "array([[ 1. ,  0.5,  2. ,  0.5],\n",
       "       [ 0. ,  1. , -2.8, -1. ],\n",
       "       [ 0. ,  0. ,  1. ,  0. ],\n",
       "       [ 0. ,  0. ,  0. ,  1. ]])"
      ]
     },
     "execution_count": 38,
     "metadata": {},
     "output_type": "execute_result"
    }
   ],
   "source": [
    "# U\n",
    "MatrizU_truncada"
   ]
  },
  {
   "cell_type": "code",
   "execution_count": 39,
   "metadata": {},
   "outputs": [
    {
     "name": "stdout",
     "output_type": "stream",
     "text": [
      "[[ 2.  1.  4.  1.]\n",
      " [ 3.  4. -1. -1.]\n",
      " [ 1. -4.  1.  5.]\n",
      " [ 2. -2.  1.  3.]]\n"
     ]
    }
   ],
   "source": [
    "# c) Multiplica U, L para verificar que recuperamos A\n",
    "print(np.dot(MatrizL, MatrizU_truncada))"
   ]
  },
  {
   "cell_type": "code",
   "execution_count": 40,
   "metadata": {},
   "outputs": [],
   "source": [
    "# d) Convierte tu programa en una función y pruebalo en A."
   ]
  },
  {
   "cell_type": "code",
   "execution_count": 41,
   "metadata": {},
   "outputs": [
    {
     "name": "stdout",
     "output_type": "stream",
     "text": [
      "x = [ 2. -1. -2.  1.]\n"
     ]
    }
   ],
   "source": [
    "#Disclaimer, la mayoria de los comentarios son despues de haber acabado los ejercicios.\n",
    "\n",
    "#Aquí explico lo último que se debe hacer para tener el programa funcionando al 100\n",
    "\n",
    "#Bueno, ya llegamos a la última estapa de este espantoso código.\n",
    "#Tenemos el LUx = v\n",
    "#Haremos la sustitución Ux = y\n",
    "#entonces solo debemos resolver Ly = v y despues Ux = y\n",
    "#Siendo sinceros, no se porque le llamada double backward substitution, incluso en el libro se nota que la de Ly = v es foward, la \n",
    "#de Ux = y si es backward.\n",
    "\n",
    "#Ly = v\n",
    "############################################\n",
    "#Foward Substitution\n",
    "v = vcopy #nuevamente porque lo copiamos xd\n",
    "l = MatrizL # ya es mas claro quien es quien\n",
    "\n",
    "#la expliación de como llegué a los loop para el algoritmo de Foward y Backward Substitution están\n",
    "#y deberian estar en el PDF adjunto. \n",
    "#No hay tantas versiones de esta parte del código porque nuevamente me equivoqúe yo, me hacian sentido\n",
    "#cuando los hice en papel, pero al momento de probarlos no me daban lo esperado y el debugging es como las \n",
    "#demostraciones, magia momentanea.\n",
    "\n",
    "\n",
    "# Forward Substitution\n",
    "y = np.empty(N, float)\n",
    "for i in range(N):\n",
    "    y[i] = v[i] / l[i, i]\n",
    "    for j in range(i):\n",
    "        y[i] -= (l[i, j] * y[j]) / l[i, i]\n",
    "############################################\n",
    "#Ux = y\n",
    "#Backsubstitution\n",
    "u = MatrizU_truncada\n",
    "# Backsubstitution\n",
    "x = np.empty(N, float)  \n",
    "for m in range(N-1, -1, -1):  \n",
    "    x[m] = y[m] \n",
    "    for i in range(m+1, N): \n",
    "        x[m] -= u[m, i] * x[i] \n",
    "    x[m] /= u[m, m]  \n",
    "############################################\n",
    "print('x =', x)"
   ]
  },
  {
   "cell_type": "code",
   "execution_count": 42,
   "metadata": {},
   "outputs": [],
   "source": [
    "#algo que olvide recalacar en el cacho anterior fue el v, si bien lo acarree en la fase preliminar de mi código no es necesario\n",
    "#para la eliminación de Gauss, porque las matrices L, U tienen ya lo que se va a hacer a v, y si pongo el v maniuplado\n",
    "#ya no da lo que debia, si bien no hace daño, se le puede quitar esa parte al código y en su lugar usar la dimensión de \n",
    "#la columna o row para la N, pero como soy un loquillo se lo vamos a pedir al usuario."
   ]
  },
  {
   "cell_type": "code",
   "execution_count": 43,
   "metadata": {},
   "outputs": [],
   "source": [
    "#Mi intento todo rancio de pasarlo a función, nunca he sido bueno con la identación.\n",
    "\n",
    "\n",
    "#def DescomposicionLU(A,N):\n",
    " #   import numpy as np\n",
    "#Debemos mantener una referencia a la matriz A original pues al final del programa no es la misma.\n",
    "  #  O = A.copy() \n",
    "####################################################### \n",
    "#Creación del hogar de las matrices L_{i} y L_{i}^{-1}\n",
    "   # U = []\n",
    "    #L = []\n",
    "    #for i in range(N):\n",
    "     #   L.append(np.zeros((N,N),float))\n",
    "      #  U.append(np.zeros((N,N),float))\n",
    "######################################################        \n",
    "#Pivoting\n",
    "   # for m in range(N):\n",
    "    #    div = A[m,m]\n",
    "     #   if div == 0:\n",
    "      #      for w in range(m+1,N):\n",
    "       #         if A[w,m] != 0:            \n",
    "        #            tempA = A[m,:].copy()\n",
    "         #           A[m,:] = A[w,:]\n",
    "          #          A[w,:] = tempA\n",
    "           #         break\n",
    "            #    else:\n",
    "             #       continue\n",
    "##################################################\n",
    "#Gauss Elimination\n",
    "    #for m in range(N):   \n",
    "    ######################################\n",
    "    #Creación de las matrices L_{i}, U_{i}\n",
    "     #    W = L[m] \n",
    "      #   Q = U[m]\n",
    "       #  z = 1/A[m,m].copy()\n",
    "    #diagonal\n",
    "    #for p in range(N):\n",
    "     #   if p == m:\n",
    "      #      W[p,p] = z\n",
    "       #     Q[p,p]  = A[m,m].copy()\n",
    "        #else:\n",
    "         #   W[p,p] = A[m,m].copy()*z\n",
    "          #  Q[p,p] = 1\n",
    "    #renglón\n",
    "    #for p in range(m+1,N):\n",
    "     #   W[p,m] = -A[p,m].copy()*z\n",
    "      #  Q[p,m] = A[p,m].copy()\n",
    "    ######################################\n",
    "    #div = A[m,m]\n",
    "    #A[m,:] /= div \n",
    "    #for i in range(m+1,N):\n",
    "     #   mult = A[i,m]\n",
    "      #  A[i,:] -= mult*A[m,:]  \n",
    "######################################################\n",
    "# Aquí ahora debemos armar la matriz L, y U.\n",
    "   # Normales = L \n",
    "    #NormalesMult = Normales[-1]\n",
    "    #for i in range(len(Normales)-2, -1, -1):\n",
    "     #   NormalesMult = np.dot(NormalesMult, Normales[i])\n",
    "    #Inversas  = U \n",
    "    #InversasMult = Inversas[0]\n",
    "    #for i in range(1, len(U)):\n",
    "     #   InversasMult = np.dot(InversasMult, Inversas[i])\n",
    "######################################################\n",
    "    #MatrizL = InversasMult\n",
    "    #MatrizU = np.dot(NormalesMult,O) \n",
    "    #Truncamiento si es necesario, solo lo hare por completez, no es necesario.\n",
    "    #MatrizU_Trun = np.trunc(MatrizU * (10 ** 5)) / (10 ** 5)\n",
    "    #MatrizL_Trun = np.trunc(MatrizL * (10 ** 5)) / (10 ** 5)\n",
    "######################################################\n",
    "    #return MatrizL_Trun, MatrizU_Trun"
   ]
  },
  {
   "cell_type": "code",
   "execution_count": 44,
   "metadata": {},
   "outputs": [],
   "source": [
    "# Mi primera chamba\n",
    "def DescomposicionLU(A, N):\n",
    "    # Copia de A\n",
    "    O = A.copy()\n",
    "\n",
    "    # Creación del conjunto de matrices  L_{i} y L_{i}^{-1}\n",
    "    U = []\n",
    "    L = []\n",
    "    for i in range(N):\n",
    "        L.append(np.zeros((N, N), float))\n",
    "        U.append(np.zeros((N, N), float))\n",
    "\n",
    "    # Pivoting\n",
    "    for m in range(N):\n",
    "        div = A[m, m]\n",
    "        if div == 0:\n",
    "            for w in range(m+1, N):\n",
    "                if A[w, m] != 0:\n",
    "                    tempA = A[m, :].copy()\n",
    "                    A[m, :] = A[w, :]\n",
    "                    A[w, :] = tempA\n",
    "                    break\n",
    "\n",
    "    # Gauss Elimination\n",
    "    for m in range(N):\n",
    "        W = L[m]\n",
    "        Q = U[m]\n",
    "        z = 1 / A[m, m].copy()\n",
    "        \n",
    "        # Diagonal\n",
    "        for p in range(N):\n",
    "            if p == m:\n",
    "                W[p, p] = z\n",
    "                Q[p, p] = A[m, m].copy()\n",
    "            else:\n",
    "                W[p, p] = A[m, m].copy() * z\n",
    "                Q[p, p] = 1\n",
    "        \n",
    "        # Renglón\n",
    "        for p in range(m + 1, N):\n",
    "            W[p, m] = -A[p, m].copy() * z\n",
    "            Q[p, m] = A[p, m].copy()\n",
    "        \n",
    "        div = A[m, m]\n",
    "        A[m, :] /= div\n",
    "        \n",
    "        for i in range(m + 1, N):\n",
    "            mult = A[i, m]\n",
    "            A[i, :] -= mult * A[m, :]\n",
    "\n",
    "    # Matrices L y U\n",
    "    Normales = L\n",
    "    NormalesMult = Normales[-1]\n",
    "    \n",
    "    for i in range(len(Normales) - 2, -1, -1):\n",
    "        NormalesMult = np.dot(NormalesMult, Normales[i])\n",
    "    \n",
    "    Inversas = U\n",
    "    InversasMult = Inversas[0]\n",
    "    \n",
    "    for i in range(1, len(U)):\n",
    "        InversasMult = np.dot(InversasMult, Inversas[i])\n",
    "\n",
    "    # l, U las buenas casi, o si.\n",
    "    MatrizL = InversasMult\n",
    "    MatrizU = np.dot(NormalesMult, O)\n",
    "\n",
    "    # Truncamiento si es necesario\n",
    "    MatrizU_Trun = np.trunc(MatrizU * (10 ** 5)) / (10 ** 5)\n",
    "    MatrizL_Trun = np.trunc(MatrizL * (10 ** 5)) / (10 ** 5)\n",
    "\n",
    "    return MatrizL,MatrizU,MatrizL_Trun, MatrizU_Trun"
   ]
  },
  {
   "cell_type": "code",
   "execution_count": 45,
   "metadata": {},
   "outputs": [
    {
     "name": "stdout",
     "output_type": "stream",
     "text": [
      "[[  2.    0.    0.    0. ]\n",
      " [  3.    2.5   0.    0. ]\n",
      " [  1.   -4.5 -13.6   0. ]\n",
      " [  2.   -3.  -11.4  -1. ]]\n",
      "[[ 1.00000000e+00  5.00000000e-01  2.00000000e+00  5.00000000e-01]\n",
      " [ 0.00000000e+00  1.00000000e+00 -2.80000000e+00 -1.00000000e+00]\n",
      " [ 0.00000000e+00  0.00000000e+00  1.00000000e+00  2.77555756e-17]\n",
      " [ 0.00000000e+00  0.00000000e+00  1.55431223e-15  1.00000000e+00]]\n",
      "[[  2.        0.        0.        0.     ]\n",
      " [  3.        2.5       0.        0.     ]\n",
      " [  1.       -4.5     -13.6       0.     ]\n",
      " [  2.       -3.      -11.39999  -1.     ]]\n",
      "[[ 1.   0.5  2.   0.5]\n",
      " [ 0.   1.  -2.8 -1. ]\n",
      " [ 0.   0.   1.   0. ]\n",
      " [ 0.   0.   0.   1. ]]\n"
     ]
    }
   ],
   "source": [
    "A = array([[2,1,4,1],\n",
    "           [3,4,-1,-1],\n",
    "           [1,-4,1,5],\n",
    "           [2,-2,1,3]],float)\n",
    "MatL, MatU,MatLTrun,MatUTru  = DescomposicionLU(A, 4)\n",
    "print(MatL)\n",
    "print(MatU)\n",
    "print(MatLTrun)\n",
    "print(MatUTru)"
   ]
  },
  {
   "cell_type": "code",
   "execution_count": 46,
   "metadata": {},
   "outputs": [],
   "source": [
    "def SustitucionLU(MatrizL, MatrizU, v):\n",
    "    N = len(v)\n",
    "    # Forward Substitution\n",
    "    l = MatrizL\n",
    "    y = np.empty(N, float)\n",
    "    for i in range(N):\n",
    "        y[i] = v[i] / l[i, i]\n",
    "        for j in range(i):\n",
    "            y[i] -= (l[i, j] * y[j]) / l[i, i]\n",
    "    # Backsubstitution\n",
    "    u = MatrizU\n",
    "    x = np.empty(N, float)\n",
    "    for m in range(N - 1, -1, -1):\n",
    "        x[m] = y[m]\n",
    "        for i in range(m + 1, N):\n",
    "            x[m] -= u[m, i] * x[i]\n",
    "        x[m] /= u[m, m]\n",
    "    return x"
   ]
  },
  {
   "cell_type": "code",
   "execution_count": 47,
   "metadata": {},
   "outputs": [
    {
     "name": "stdout",
     "output_type": "stream",
     "text": [
      "Solución sin truncamiento: [ 2. -1. -2.  1.]\n",
      "Solución con truncamiento: [ 2.00002 -1.00002 -2.       0.99998]\n"
     ]
    }
   ],
   "source": [
    "Sus = SustitucionLU(MatL, MatU, v)\n",
    "Sus2 = SustitucionLU(MatLTrun, MatUTru, v)\n",
    "print('Solución sin truncamiento:',Sus)\n",
    "print('Solución con truncamiento:',Sus2)"
   ]
  },
  {
   "cell_type": "code",
   "execution_count": 48,
   "metadata": {},
   "outputs": [
    {
     "name": "stdout",
     "output_type": "stream",
     "text": [
      "x: [ 2. -1. -2.  1.]\n"
     ]
    }
   ],
   "source": [
    "# e) Usa solve para resolver el sistema de ecuaciones Ax = v y compara con tu resultado.\n",
    "A = np.array([[2,1,4,1],\n",
    "           [3,4,-1,-1],\n",
    "           [1,-4,1,5],\n",
    "           [2,-2,1,3]],float)\n",
    "\n",
    "v = np.array([-4, 3, 9, 7], float)\n",
    "x = np.linalg.solve(A, v)\n",
    "\n",
    "print(\"x:\", x)\n",
    "\n"
   ]
  },
  {
   "cell_type": "code",
   "execution_count": 49,
   "metadata": {},
   "outputs": [],
   "source": [
    "#Aquí vemos que sin truncamiento se parece la solución, pero inclui las truncadas porque el efecto que buscabamos en \n",
    "#el inciso anterior era que se parecieran las matrices a las que teniamos pues, lo bueno es que el usuario puede discernir \n",
    "#cuales le convienen más.\n",
    "\n",
    "#Ah, y si son iguales las soluciones."
   ]
  },
  {
   "cell_type": "code",
   "execution_count": 50,
   "metadata": {},
   "outputs": [
    {
     "name": "stdout",
     "output_type": "stream",
     "text": [
      "x: [ 0.18666667  0.42666667  0.2        -0.28      ]\n"
     ]
    }
   ],
   "source": [
    "#Probando con otra matriz\n",
    "B = np.array([[1,2,4,3],\n",
    "           [4,5,9,6],\n",
    "           [7,8,9,9],\n",
    "           [3,6,5,4]],float)\n",
    "p = np.array([1,3,4,3],float)\n",
    "x = np.linalg.solve(B, p)\n",
    "print(\"x:\", x) "
   ]
  },
  {
   "cell_type": "code",
   "execution_count": 51,
   "metadata": {},
   "outputs": [
    {
     "name": "stdout",
     "output_type": "stream",
     "text": [
      "Solución sin truncamiento: [ 0.18666667  0.42666667  0.2        -0.28      ]\n",
      "Solución con truncamiento: [ 0.18666533  0.42666733  0.2        -0.28      ]\n"
     ]
    }
   ],
   "source": [
    "N = len(p)\n",
    "MatL, MatU,MatLTrun,MatUTru  = DescomposicionLU(B, N)\n",
    "\n",
    "Sus = SustitucionLU(MatL, MatU, p)\n",
    "Sus2 = SustitucionLU(MatLTrun, MatUTru, p)\n",
    "print('Solución sin truncamiento:',Sus)\n",
    "print('Solución con truncamiento:',Sus2)"
   ]
  },
  {
   "cell_type": "code",
   "execution_count": 52,
   "metadata": {},
   "outputs": [],
   "source": [
    "#Como ya he comentado antes, tengo problemas con ciertas cositas del python, casi me da un infarto cuando vi que no daban los mismo.\n",
    "#Ahora, si bien funciona, hay excepciones y es cuando el determinante es cerca de cero o cero.\n",
    "#Le metí una matriz de 3x3 con determinante cero y me dio un error, y ashí se nota que tipo de matrices no puede resolver.\n"
   ]
  }
 ],
 "metadata": {
  "kernelspec": {
   "display_name": "base",
   "language": "python",
   "name": "python3"
  },
  "language_info": {
   "codemirror_mode": {
    "name": "ipython",
    "version": 3
   },
   "file_extension": ".py",
   "mimetype": "text/x-python",
   "name": "python",
   "nbconvert_exporter": "python",
   "pygments_lexer": "ipython3",
   "version": "3.11.4"
  }
 },
 "nbformat": 4,
 "nbformat_minor": 2
}
