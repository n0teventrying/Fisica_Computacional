{
 "cells": [
  {
   "cell_type": "code",
   "execution_count": 12,
   "metadata": {},
   "outputs": [],
   "source": [
    "# 5. Constante de Desplazamiento de Wien"
   ]
  },
  {
   "cell_type": "code",
   "execution_count": null,
   "metadata": {},
   "outputs": [],
   "source": [
    "# a) Está en el PDF adjunto"
   ]
  },
  {
   "cell_type": "code",
   "execution_count": 16,
   "metadata": {},
   "outputs": [],
   "source": [
    "from pylab import*\n",
    "import math"
   ]
  },
  {
   "cell_type": "code",
   "execution_count": 17,
   "metadata": {},
   "outputs": [
    {
     "name": "stdout",
     "output_type": "stream",
     "text": [
      "4.9651142954826355\n",
      "0.0028977728773268117\n"
     ]
    }
   ],
   "source": [
    "# b)\n",
    "def f(x):\n",
    "    return 5*math.exp(-x) + x - 5\n",
    "\n",
    "def BS(a, b, error=1e-6):\n",
    "    while b - a > error:\n",
    "        mid = (a + b) / 2\n",
    "        if f(mid) > 0:\n",
    "            b = mid\n",
    "        else:\n",
    "            a = mid\n",
    "    return (a + b) / 2\n",
    "x = BS(0, 10, error=1e-6)\n",
    "print(x)\n",
    "\n",
    "def b(x):\n",
    "    h = 6.62607004e-34  # Planck's constant\n",
    "    c = 299792458  # speed of light\n",
    "    k_B = 1.38064852e-23  # Boltzmann's constant\n",
    "    b = h * c / (k_B * x)\n",
    "    return b\n",
    "print(b(x))\n",
    "    "
   ]
  },
  {
   "cell_type": "code",
   "execution_count": null,
   "metadata": {},
   "outputs": [],
   "source": [
    "# c) Está en el PDF adjunto"
   ]
  }
 ],
 "metadata": {
  "kernelspec": {
   "display_name": "base",
   "language": "python",
   "name": "python3"
  },
  "language_info": {
   "codemirror_mode": {
    "name": "ipython",
    "version": 3
   },
   "file_extension": ".py",
   "mimetype": "text/x-python",
   "name": "python",
   "nbconvert_exporter": "python",
   "pygments_lexer": "ipython3",
   "version": "3.11.4"
  }
 },
 "nbformat": 4,
 "nbformat_minor": 2
}
