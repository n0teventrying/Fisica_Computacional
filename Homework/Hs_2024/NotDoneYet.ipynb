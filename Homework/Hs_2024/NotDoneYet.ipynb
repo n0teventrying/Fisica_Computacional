{
 "cells": [
  {
   "cell_type": "code",
   "execution_count": null,
   "metadata": {},
   "outputs": [],
   "source": [
    "n_iterations = 1000  \n",
    "n_plot = 1000 \n",
    "r_values = np.linspace(1.0, 4.0, n_plot) \n",
    "x_values = 0.5 * np.ones(n_plot)  \n",
    "plt.figure(figsize=(10,10)) \n",
    "for _ in range(n_iterations + 1000):\n",
    "    x_values = r_values * x_values * (1 - x_values)\n",
    "plt.plot(r_values, x_values,'.k', alpha=0.25, markersize=2.0)\n",
    "plt.xlabel('Valor de r')\n",
    "plt.ylabel('Valor de x∞')\n",
    "plt.title('Diagrama de Feigenbaum del Mapeo Logístico')\n",
    "plt.xlim(1, 4)\n",
    "plt.ylim(0, 1)\n",
    "plt.show()"
   ]
  },
  {
   "cell_type": "code",
   "execution_count": null,
   "metadata": {},
   "outputs": [],
   "source": []
  },
  {
   "cell_type": "code",
   "execution_count": null,
   "metadata": {},
   "outputs": [],
   "source": []
  },
  {
   "cell_type": "code",
   "execution_count": null,
   "metadata": {},
   "outputs": [],
   "source": []
  },
  {
   "cell_type": "code",
   "execution_count": null,
   "metadata": {},
   "outputs": [],
   "source": [
    "import numpy as np\n",
    "import matplotlib.pyplot as plt\n",
    "\n",
    "# Función para verificar si un punto está en el conjunto de Mandelbrot\n",
    "def mandelbrot(c, max_iterations):\n",
    "    z = c\n",
    "    for i in range(max_iterations):\n",
    "        if abs(z) > 2.0:\n",
    "            return i  # El punto está fuera del conjunto\n",
    "        z = z * z + c\n",
    "    return max_iterations  # El punto está dentro del conjunto\n",
    "\n",
    "# Parámetros\n",
    "N = 800  # Tamaño de la cuadrícula (puedes ajustarlo)\n",
    "max_iterations = 100  # Número máximo de iteraciones\n",
    "\n",
    "# Generar cuadrícula de valores complejos\n",
    "x = np.linspace(-2, 2, N)\n",
    "y = np.linspace(-2, 2, N)\n",
    "C = np.array([complex(a, b) for a in x for b in y])\n",
    "\n",
    "# Calcular el conjunto de Mandelbrot\n",
    "M = np.array([mandelbrot(c, max_iterations) for c in C])\n",
    "M = M.reshape(N, N)  # Redimensionar a una matriz NxN\n",
    "\n",
    "# Crear la gráfica de densidad\n",
    "plt.figure(figsize=(8, 8))\n",
    "plt.imshow(M, extent=(-2, 2, -2, 2), cmap='binary', origin='lower')\n",
    "plt.colorbar(label='Número de Iteraciones')\n",
    "plt.title('Conjunto de Mandelbrot')\n",
    "plt.xlabel('Parte Real (x)')\n",
    "plt.ylabel('Parte Imaginaria (y)')\n",
    "plt.show()"
   ]
  },
  {
   "cell_type": "code",
   "execution_count": null,
   "metadata": {},
   "outputs": [],
   "source": [
    "import numpy as np\n",
    "import matplotlib.pyplot as plt\n",
    "\n",
    "# Función para verificar si un punto está en el conjunto de Mandelbrot\n",
    "def mandelbrot(c, max_iterations):\n",
    "    z = c\n",
    "    for i in range(max_iterations):\n",
    "        if abs(z) > 2.0:\n",
    "            return i  # El punto está fuera del conjunto\n",
    "        z = z * z + c\n",
    "    return max_iterations  # El punto está dentro del conjunto\n",
    "\n",
    "# Parámetros\n",
    "N = 800  # Tamaño de la cuadrícula (ajústalo para obtener la calidad deseada)\n",
    "max_iterations = 1000  # Número máximo de iteraciones\n",
    "\n",
    "# Generar cuadrícula de valores complejos\n",
    "x = np.linspace(-2, 2, N)\n",
    "y = np.linspace(-2, 2, N)\n",
    "C = np.array([complex(a, b) for a in x for b in y])\n",
    "\n",
    "# Calcular el conjunto de Mandelbrot y obtener el número de iteraciones\n",
    "M = np.array([mandelbrot(c, max_iterations) for c in C])\n",
    "M = M.reshape(N, N)  # Redimensionar a una matriz NxN\n",
    "\n",
    "# Crear una imagen con colores basados en el número de iteraciones\n",
    "plt.figure(figsize=(8, 8))\n",
    "plt.imshow(np.log(M + 1), extent=(-2, 2, -2, 2), cmap='hot', origin='lower')\n",
    "plt.colorbar(label='Logaritmo del Número de Iteraciones')\n",
    "plt.title('Conjunto de Mandelbrot (Coloreado por Logaritmo de Iteraciones)')\n",
    "plt.xlabel('Parte Real (x)')\n",
    "plt.ylabel('Parte Imaginaria (y)')\n",
    "plt.show()"
   ]
  },
  {
   "cell_type": "code",
   "execution_count": null,
   "metadata": {},
   "outputs": [],
   "source": []
  }
 ],
 "metadata": {
  "kernelspec": {
   "display_name": "base",
   "language": "python",
   "name": "python3"
  },
  "language_info": {
   "name": "python",
   "version": "3.11.4"
  },
  "orig_nbformat": 4
 },
 "nbformat": 4,
 "nbformat_minor": 2
}
