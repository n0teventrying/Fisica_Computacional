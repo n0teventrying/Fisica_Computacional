{
 "cells": [
  {
   "cell_type": "code",
   "execution_count": 3,
   "metadata": {},
   "outputs": [],
   "source": [
    "# 6. El punto de Lagrange"
   ]
  },
  {
   "cell_type": "code",
   "execution_count": 4,
   "metadata": {},
   "outputs": [],
   "source": [
    "# a) Está en el PDF adjunto"
   ]
  },
  {
   "cell_type": "code",
   "execution_count": 1,
   "metadata": {},
   "outputs": [
    {
     "name": "stdout",
     "output_type": "stream",
     "text": [
      "0.8481921739473347\n"
     ]
    }
   ],
   "source": [
    "#  b)\n",
    "from pylab import *\n",
    "\n",
    "accuracy = 1e-12\n",
    "\n",
    "G = 6.674e-11\n",
    "M = 5.974e24\n",
    "m = 7.348e22\n",
    "R = 3.844e8\n",
    "omega = 2.662e-6\n",
    "\n",
    "f = lambda r: G*M/r**2 - G*m/(R-r)**2 - omega**2*r\n",
    "\n",
    "r1 = 1\n",
    "r2 = 2\n",
    "delta = 1.0\n",
    "while abs(delta)>accuracy:\n",
    "\tr3 = r2 - f(r2)*(r2-r1)/(f(r2) - f(r1))\n",
    "\tr1,r2 = r2,r3\n",
    "\t\n",
    "\tdelta = r2 - r1\n",
    "\n",
    "print(r2/R)"
   ]
  },
  {
   "cell_type": "code",
   "execution_count": null,
   "metadata": {},
   "outputs": [],
   "source": []
  }
 ],
 "metadata": {
  "kernelspec": {
   "display_name": "base",
   "language": "python",
   "name": "python3"
  },
  "language_info": {
   "codemirror_mode": {
    "name": "ipython",
    "version": 3
   },
   "file_extension": ".py",
   "mimetype": "text/x-python",
   "name": "python",
   "nbconvert_exporter": "python",
   "pygments_lexer": "ipython3",
   "version": "3.11.4"
  }
 },
 "nbformat": 4,
 "nbformat_minor": 2
}
