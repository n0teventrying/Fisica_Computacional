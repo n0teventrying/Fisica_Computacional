{
 "cells": [
  {
   "cell_type": "markdown",
   "metadata": {},
   "source": [
    "<h1 align=\"center\">Física Computacional.</h1>\n",
    "<h1 align=\"center\">Semestre 2014-1</h1>\n",
    "\n",
    "<h2>Sergio A. Alcalá Corona </h2> \n",
    "\n",
    "---\n",
    "### Daniel Rojo Mata\n",
    "### Rodrigo Vega Vilchis\n",
    "---"
   ]
  },
  {
   "cell_type": "markdown",
   "metadata": {},
   "source": [
    "<h1 align=\"center\">Programación para la física computacional</h1> \n",
    "\n",
    "## Práctica 1.  Programación para la física computacional\n",
    "\n",
    "\n",
    "### Programación básica para la física\n",
    "\n",
    "---"
   ]
  },
  {
   "cell_type": "markdown",
   "metadata": {},
   "source": [
    "### EJERCICIOS:"
   ]
  },
  {
   "cell_type": "markdown",
   "metadata": {},
   "source": [
    "**1. Caida de una pelota desde una torre:** Se deja caer una pelota desde una torre de altura $h$. Tiene velocidad inicial cero y acelera hacia abajo con la gravedad.\n",
    "\n",
    "Escribe un programa que le pida al usuario que ingrese la altura en metros de la torre y luego calcule e imprima el tiempo en segundos hasta que la pelota toque el suelo (ignora la resistencia del aire). \n",
    "    \n",
    "Después, usa tu programa para calcular el tiempo de una pelota lanzada desde una torre de $100m$ de altura."
   ]
  },
  {
   "cell_type": "code",
   "execution_count": 114,
   "metadata": {},
   "outputs": [],
   "source": [
    "from pylab import*"
   ]
  },
  {
   "cell_type": "markdown",
   "metadata": {},
   "source": [
    "<script src=\"https://cdn.mathjax.org/mathjax/latest/MathJax.js?config=TeX-AMS-MML_HTMLorMML\" type=\"text/javascript\"></script>"
   ]
  },
  {
   "cell_type": "code",
   "execution_count": 115,
   "metadata": {},
   "outputs": [
    {
     "name": "stdout",
     "output_type": "stream",
     "text": [
      "La pelota tardara en tocar el suelo 4.515236409857309 segundos\n"
     ]
    }
   ],
   "source": [
    "h1 = int(input('Por favor, introduce la altura en metros de la que dejaras caer lu pelota'))\n",
    "\n",
    "def Pelotatime(h):\n",
    "    g = 9.81 \n",
    "    #Aquí definimos la altura como negativa, porque asi deducimos la formula, entonces..\n",
    "    h = -1*h1\n",
    "    t = sqrt(-2*h/g)\n",
    "    return t\n",
    "print('La pelota tardara en tocar el suelo',Pelotatime(h1), 'segundos')"
   ]
  },
  {
   "cell_type": "markdown",
   "metadata": {},
   "source": [
    "**2. Altitud de un satélite**: se va a lanzar un satélite en una órbita circular alrededor de la Tierra de modo que orbite el planeta una vez cada $T$ segundos. "
   ]
  },
  {
   "cell_type": "markdown",
   "metadata": {},
   "source": [
    "(a) Demuestre que la altitud $h$ sobre la superficie de la Tierra que debe tener el satélite es:\n",
    "\n",
    "$$\n",
    "h = \\left(\\frac{Gm_{T}T^2}{4\\pi^2}\\right)^{\\frac{1}{3}}-R,\n",
    "$$\n",
    "\n",
    "donde $G=6.67\\times10^{-11}\\,\\textrm{m}^3\\,\\textrm{kg}^{-1}\\,\\textrm{s}^{-2}$ es la constante gravitatoria de Newton, $M=5.97\\times10^{24}\\,$kg es la masa de la Tierra y $R=6371\\,$km  es su radio.\n",
    "\n"
   ]
  },
  {
   "cell_type": "markdown",
   "metadata": {},
   "source": [
    "### Respuesta:\n",
    "Tenemos que la fuerza centripeta y la fuerza de gravedad entre estos dos obejtos está en equilibrio, es decir:\n",
    "\n",
    "$$\n",
    "\\vec{F_{c}} = \\vec{F_{G}}\n",
    "$$\n",
    "\n",
    "entonces, si desarrollamos esta expresión enfocandonos en la magnitud solamente, tenemos que:\n",
    "\n",
    "$$\n",
    "a_{c}m_{s} = G \\frac{m_{T}m_{s}}{(R+h)^{2}}\n",
    "$$\n",
    "donde por notación $M = m_{T}$, simplificando y recordando que $v = \\frac{2\\pi (R+h)}{T}$, $a_{c} = \\frac{v^2}{R+h}$, R es el radio de la tierra, y h la distancia de la superficie de la tierra al satelite.\n",
    "\n",
    "\n",
    "$$\n",
    "\\left(\\frac{2\\pi(R+h)}{T}\\right)^2 = \\frac{G m_{T}}{(R+h)} \n",
    "$$\n",
    "\n",
    "$$\n",
    "4\\pi^2 (R+h)^3 = Gm_{T}T^2\n",
    "$$\n",
    "\n",
    "$$\n",
    "h = \\left(\\frac{Gm_{T}T^2}{4\\pi^2}\\right)^{\\frac{1}{3}}-R\n",
    "$$\n"
   ]
  },
  {
   "cell_type": "markdown",
   "metadata": {},
   "source": [
    "(b) Escribe un programa que le pida al usuario que ingrese el valor deseado de $T$ y luego calcula e imprima la altitud correcta en metros."
   ]
  },
  {
   "cell_type": "code",
   "execution_count": 116,
   "metadata": {},
   "outputs": [
    {
     "name": "stdout",
     "output_type": "stream",
     "text": [
      "El satelite se encuentra a una altitud de : 28281969.093270153 metros\n"
     ]
    }
   ],
   "source": [
    "#Bueno, una vez que hemos demostrado la formula, debemos declarar las variables:\n",
    "\n",
    "G = 6.67*10**(-11) #m^{3} kg^{-1}s^{-2}\n",
    "# M = m_{T} \n",
    "M = 5.97*10**(24) # kg\n",
    "R = 6371 #km\n",
    "#Según yo hay una libreria que puede asociarle sus unidades a los números anteriores, pero no la usare.\n",
    "\n",
    "#Aquí viene algo muy interesante, no nos dice que el periodo (T) deba estar en unidades, \n",
    "#asi que vamos a implementar tres casos: segundos, minutos, y horas.\n",
    "\n",
    "T = int(input('Por favor, ingresa el periodo T deseado:'))\n",
    "tipo = input('¿son segundos (s), minutos(m) u horas(h):')\n",
    "\n",
    "def Periodo(T,tipo):\n",
    "    if tipo == 's':\n",
    "        T = T\n",
    "        h = (G*M*(T**2)/4*pi**2)**(1/3) - R\n",
    "    if tipo == 'm':\n",
    "        T = T*60\n",
    "        h = (G*M*(T**2)/4*pi**2)**(1/3) - R\n",
    "    if tipo == 'h':\n",
    "        T = T*3600\n",
    "        h = (G*M*(T**2)/4*pi**2)**(1/3) - R\n",
    "    return h \n",
    "altitud = Periodo(T,tipo)\n",
    "print('El satelite se encuentra a una altitud de :',altitud, 'metros')\n",
    "\n",
    "\n",
    "\n"
   ]
  },
  {
   "cell_type": "markdown",
   "metadata": {},
   "source": [
    "(c) Utiliza tu programa para calcular las altitudes de los satélites que orbitan la Tierra una vez al día (la llamada órbita *geoestacionaria*), una vez cada **90 minutos** y una vez cada **45 minutos**. ¿Qué concluyes de este último cálculo?"
   ]
  },
  {
   "cell_type": "code",
   "execution_count": 117,
   "metadata": {},
   "outputs": [
    {
     "name": "stdout",
     "output_type": "stream",
     "text": [
      "Para un periodo de 90 minutos tenemos que la altitud es: 30592763.75817153 metros\n",
      "Para un periodo de 45 minutos tenemos que la altitud es: 19269875.99519509 metros\n"
     ]
    }
   ],
   "source": [
    "print('Para un periodo de 90 minutos tenemos que la altitud es:',Periodo(90, 'm'),'metros')\n",
    "print('Para un periodo de 45 minutos tenemos que la altitud es:',Periodo(45,'m'),'metros')"
   ]
  },
  {
   "cell_type": "markdown",
   "metadata": {},
   "source": [
    "Pues que deben ir más rapido los que van más cerca de la tierra, a diferencia de los más alejados, solo que ahí ya es más peligroso pues se pueden alejar, y necesitar de algun impulso propio para mantenerse en orbita."
   ]
  },
  {
   "cell_type": "markdown",
   "metadata": {},
   "source": [
    "**3. Relatividad especial:** Una nave espacial viaja desde la Tierra en línea recta a una velocidad relativista $v$ a otro planeta a $x$ años luz de distancia. \n",
    " \n",
    " Escribe un programa que le pida al usuario el valor de $x$ y la velocidad $v$ como una fracción de la velocidad de la luz $c$, y que imprima el tiempo en años que tarda la nave espacial en llegar a su destino"
   ]
  },
  {
   "cell_type": "markdown",
   "metadata": {},
   "source": [
    "### Respuesta:\n",
    "\n",
    "Bueno recordemos que el tiempo propio es el tiempo del observador en reposo (tierra) y el tiempo que percibe el pasajero están relacionados de la siguiente manera:\n",
    "\n",
    "$$\n",
    "\\Delta t = \\gamma \\Delta t'\n",
    "$$\n",
    "donde:\n",
    "$\\gamma = \\frac{1}{\\sqrt{1-\\frac{v^2}{c^2}}}$ entonces, para encontrar el tiempo propio \n",
    "\n",
    "$$\n",
    "\\tau = \\Delta t = \\frac{x}{v}\n",
    "$$\n",
    "\n",
    "Como le pedimos al usuario que nos proporcione la distancia en años luz, debemos hacer la conversión de años luz a metros, lo cual nos deja con:\n",
    "$$\n",
    " \\text{1 año luz} = 9,4608 \\times 10^{15} \\text{metros}\n",
    " $$\n",
    "\n",
    " "
   ]
  },
  {
   "cell_type": "code",
   "execution_count": 118,
   "metadata": {},
   "outputs": [],
   "source": [
    "### Bueno, escribire primero el programa y despues respondere los incisos\n",
    "\n",
    "x = float(input('Por favor indica la distancia en años luz:'))\n",
    "v = float(input('Ahora indica la velocidad como una fracción de la velocidad de la luz:'))\n",
    "c = 1\n",
    "w = v/c\n",
    "gamma = 1/sqrt(1-w**2)\n",
    "\n",
    "#aquí una simple conversion a unidades más familiares\n",
    "xmod = x*94608*10**(15) # metros\n",
    "vmod = v*3*10**8 #metros/segundo\n",
    "#ahora, solo debemos definir nuestra función\n",
    "def Lucecitadenavidad(x,v):\n",
    "    #tiempo del observador en reposo\n",
    "    tau = x/v\n",
    "    #pero nos piden el tiempo en años, y este está en segundos, entonces\n",
    "    tau = tau*(1/31536000)\n",
    "    #tiempo del sistema en movimineto respecto al observador\n",
    "    t_prima = (1/gamma)*tau\n",
    "    return(tau, t_prima)\n",
    "\n",
    "tau,t_prima  = Lucecitadenavidad(xmod,vmod)   "
   ]
  },
  {
   "cell_type": "markdown",
   "metadata": {},
   "source": [
    "a) en el marco de reposo de un observador en la Tierra y "
   ]
  },
  {
   "cell_type": "code",
   "execution_count": 119,
   "metadata": {},
   "outputs": [
    {
     "name": "stdout",
     "output_type": "stream",
     "text": [
      "101010.101010101 años\n"
     ]
    }
   ],
   "source": [
    "print(tau,'años')"
   ]
  },
  {
   "cell_type": "markdown",
   "metadata": {},
   "source": [
    "b) como lo percibiría un pasajero a bordo de la nave. "
   ]
  },
  {
   "cell_type": "code",
   "execution_count": 120,
   "metadata": {},
   "outputs": [
    {
     "name": "stdout",
     "output_type": "stream",
     "text": [
      "14249.22826228878 años\n"
     ]
    }
   ],
   "source": [
    "print(t_prima,'años')"
   ]
  },
  {
   "cell_type": "markdown",
   "metadata": {},
   "source": [
    "Usa tu programa para calcular las respuestas para un planeta a 10 años luz de distancia con $v = 0.99c$"
   ]
  },
  {
   "cell_type": "markdown",
   "metadata": {},
   "source": [
    "**4. Órbitas planetarias:** En el espacio, la órbita de un cuerpo alrededor de otro (como un planeta alrededor del Sol), no necesariamente es circular. En general, toma la forma de una elipse, con el cuerpo a veces más cerca y otras más lejos. Si tenemos la distancia $\\ell_1$ de máxima aproximación de un planeta al Sol (su *perihelio*), y su velocidad lineal $v_1$ en el perihelio, entonces cualquier otra propiedad de la órbita se puede calcular a partir de estas dos cantidades de la siguiente manera:"
   ]
  },
  {
   "cell_type": "markdown",
   "metadata": {},
   "source": [
    " \n",
    "**a)** La segunda ley de Kepler nos dice que la distancia $\\ell_2$ y la velocidad $v_2$ del planeta en su punto más distante, o *afelio*, satisfacen que $\\ell_2 v_2 = \\ell_1 v_1$.  Al mismo tiempo, la energía total, cinética más la gravitatoria, de un planeta con velocidad $v$ y distancia $r$ del Sol está dada por:\n",
    "\n",
    "$E = \\frac{1}{2} m v^2 - G {mM\\over r}$,\n",
    "        \n",
    "donde $m$ es la masa del planeta, $M=1.9891\\times10^{30}\\,$ kg es la masa del Sol y $G=6.6738\\times10^{-11}\\,\\mathrm{m^3\\,kg^{-1}\\,s^{-2}}$ es la constante gravitatoria de Newton. Dado que la energía debe conservarse, demuestre que $v_2$ es la raíz más pequeña de la ecuación cuadrática:\n",
    "\n",
    "$v_2^2 - {2GM\\over v_1\\ell_1} v_2 - \\biggl[ v_1^2 - {2GM\\over\\ell_1} \\biggr] = 0$.\n",
    "\n",
    "Una vez que tenemos $v_2$ podemos calcular $\\ell_2$  usando la relación $\\ell_2 = \\ell_1 v_1/v_2$."
   ]
  },
  {
   "cell_type": "markdown",
   "metadata": {},
   "source": [
    "### Respuesta:\n",
    "Bueno, no debemos demostrar que $v_2$, pues es muy obvio al revisar la ecuación $l_1v_1 = l_2 v_2$\n",
    "Ya que está apartado lo más que se puede del sol, y eso significa que la velocidad en ese punto es minima, y en el más cercano, máxima. Y bueno, por simple inspección, si $l_1$ es pequeña entonces $v_1$ debe ser grande y analogamente para $l_2$ entonces $v_2$ es chiquita.\n",
    "Entonces, vamos a resolver la ecuación:\n",
    "\n",
    "Tenemos que por conservación de la energía, $E_1 = E_2$ entonces igualando:\n",
    "\n",
    "$$\n",
    "\\frac{1}{2} m v_{1}^{2} - \\frac{GmM}{l_1}  = \\frac{1}{2} m v_{2}^{2} - \\frac{GmM}{l_2} \n",
    "$$\n",
    "\n",
    "y como $l_2 = \\frac{l_1v_1}{v_2}$ entonces:\n",
    "\n",
    "$$\n",
    "\\frac{1}{2} m v_{1}^{2} - \\frac{GmM}{l_1}  = \\frac{1}{2} m v_{2}^{2} - \\frac{v_2GmM}{l_1v_1}\n",
    "$$\n",
    "\n",
    "multiplicando por $\\frac{2}{m}$ y despejando llegamos a que:\n",
    "\n",
    "$$v_2^2 - {2GM\\over v_1\\ell_1} v_2 - \\biggl[ v_1^2 - {2GM\\over\\ell_1} \\biggr] = 0$$\n",
    "\n",
    "\n",
    "\n",
    "\n",
    "Aplicando la chicharronera:\n",
    "\n",
    "$$\n",
    "v_2 = \\frac{-\\left(-\\frac{2GM}{v_1 \\ell_1}\\right) \\pm \\sqrt{\\left(-\\frac{2GM}{v_1 \\ell_1}\\right)^2 - 4(1)\\left(v_1^2 - \\frac{2GM}{\\ell_1}\\right)}}{2(1)}\n",
    "$$\n",
    "$$\n",
    "v_2 = \\frac{\\frac{2GM}{v_1 \\ell_1} \\pm \\sqrt{\\frac{4G^2M^2}{v_1^2 \\ell_1^2} - 4v_1^2 + 8GM}}{2}\n",
    "$$\n",
    "$$\n",
    "v_2 = \\frac{\\frac{2GM}{v_1 \\ell_1} \\pm \\sqrt{\\frac{4G^2M^2}{v_1^2 \\ell_1^2} - 4v_1^2 + 8GMv_1}}{2}\n",
    "$$\n"
   ]
  },
  {
   "cell_type": "markdown",
   "metadata": {},
   "source": [
    "**b)** Dados los valores de $v_1$, $\\ell_1$, y $\\ell_2$; otros parámetros de la órbita se obtienen mediante fórmulas simples que pueden derivarse de las leyes de Kepler y del hecho de que la órbita es una elipse:\n",
    "\n",
    "Semieje mayor: $\\; \\; \\; a = \\frac{1}{2}(\\ell_1+\\ell_2)$\n",
    "\n",
    "Semieje menor: $\\; \\; \\; b = \\sqrt{\\ell_1\\ell_2}$,\n",
    "\n",
    "Período orbital: $\\; \\; \\; T = {2\\pi ab\\over\\ell_1 v_1}$,\n",
    "\n",
    "Excentricidad orbital: $\\; \\; \\; e = {\\ell_2-\\ell_1\\over\\ell_2+\\ell_1}$.\n",
    "\n",
    "Escribe un programa que le pida al usuario que ingrese la distancia al Sol y la velocidad en el perihelio; para que calcule e imprima las cantidades:\n",
    "\n",
    "$\\ell_2$, $v_2$, $T$ y $e$."
   ]
  },
  {
   "cell_type": "code",
   "execution_count": 121,
   "metadata": {},
   "outputs": [
    {
     "name": "stdout",
     "output_type": "stream",
     "text": [
      "Valor de l2: 299318997300.7533 m\n",
      "Valor de v2: 17446.473736852276 m/s\n",
      "Valor de T: 62095180.30837718 s\n",
      "Valor de e: 0.5085510731809811\n"
     ]
    }
   ],
   "source": [
    "l1 = float(input(\"Por favor, ingresa la distancia al Sol en el perihelio: \"))\n",
    "v1 = float(input(\"Por favor, ingresa la velocidad en el perihelio: \"))\n",
    "def ozuna(l1, v1):\n",
    "    G = 6.67e-11 \n",
    "    M = 1.989e30 \n",
    "    e = (l1 * v1 ** 2) / (2 * G * M)\n",
    "    v2 = (2 * G * M / (v1 * l1)) - math.sqrt((2 * G * M / (v1 * l1)) ** 2 - 4 * (v1 ** 2 - 2 * G * M / l1)) / 2\n",
    "    l2 = l1 / (1 - e)\n",
    "    T = (2 * pi * l1 * l2) / (l1 * v1)\n",
    "    return e, v2, l2, T\n",
    "e, v2, l2, T = ozuna(l1, v1)\n",
    "print(\"Valor de l2:\", l2,'m')\n",
    "print(\"Valor de v2:\", v2,'m/s')\n",
    "print(\"Valor de T:\", T, 's')\n",
    "print(\"Valor de e:\", e)\n"
   ]
  },
  {
   "cell_type": "markdown",
   "metadata": {},
   "source": [
    "**c)** Prueba tu programa haciendo que calcule las propiedades de las órbitas de la Tierra (para las cuales $ l_1=1.4710 \\times 10^{11} \\, $ m y $ v_1=3.0287 \\times 10^4\\,\\mathrm{m\\,s^{-1}} $ )  y del cometa Halley ($ l_1=8.7830 \\times 10^{10} \\, $ m y $v_1=5.4529\\times 10^4\\,\\mathrm{m\\,s^{-1}}$). Entre otras cosas, deberías encontrar que el período orbital de la Tierra es de un año y el del cometa Halley es de unos 76 años.\n",
    "\n"
   ]
  },
  {
   "cell_type": "code",
   "execution_count": 122,
   "metadata": {},
   "outputs": [
    {
     "name": "stdout",
     "output_type": "stream",
     "text": [
      "Tierra:\n",
      "e: 0.5085510731809811\n",
      "v2 17446.473736852276 m/s\n",
      "l2: 299318997300.7533 m\n",
      "T: 62095180.30837718 s\n",
      "Cometa Halley:\n",
      "e: 0.9842543358600866\n",
      "v2: 26854.97922121189 m/s\n",
      "l2: 5578043531194.171 m\n",
      "T: 642738380.6416283 s\n"
     ]
    }
   ],
   "source": [
    "#Tierra\n",
    "l1_tierra = 1.4710e11  \n",
    "v1_tierra = 3.0287e4  \n",
    "#Cometa Halley\n",
    "l1_halley = 8.7830e10  \n",
    "v1_halley = 5.4529e4  \n",
    "e_tierra, v2_tierra, l2_tierra, T_tierra = ozuna(l1_tierra, v1_tierra)\n",
    "e_halley, v2_halley, l2_halley, T_halley = ozuna(l1_halley, v1_halley)\n",
    "\n",
    "print('Tierra:')\n",
    "print('e:', e_tierra)\n",
    "print('v2', v2_tierra, 'm/s')\n",
    "print('l2:', l2_tierra, 'm')\n",
    "print('T:', T_tierra, 's')\n",
    "\n",
    "print('Cometa Halley:')\n",
    "print('e:', e_halley)\n",
    "print('v2:', v2_halley, 'm/s')\n",
    "print('l2:', l2_halley, 'm')\n",
    "print('T:', T_halley, 's')\n"
   ]
  },
  {
   "cell_type": "markdown",
   "metadata": {},
   "source": [
    "**5. La fórmula semiempírica de la masa (FSM)**\n",
    " \n",
    "En física nuclear, la **fórmula de Weizsäcker** (conocida también como fórmula semiempírica) sirve para evaluar la masa y otras propiedades de un núcleo atómico; y está basada parcialmente en mediciones empíricas. En particular la fórmula se usa para calcular la $\\textbf{\\textit{energía de enlace nuclear aproximada}}$ $B$, de un núcleo atómico con número atómico $Z$ y número de masa $A$:\n",
    "\n",
    "$$B = a_1 A - a_2 A^{2/3} - a_3 {Z^2\\over A^{1/3}} - a_4 {(A - 2Z)^2\\over A} + {a_5\\over A^{1/2}}$$\n",
    "\n",
    "donde, en unidades de millones de electrón-volts, las constantes son $a_1=15.8$, $a_2=18.3$, $a_3=0.714$, $a_4=23.2$ y          \n",
    "\n",
    "$a_5 = \n",
    "  \\left \\{\n",
    "    \\begin{aligned}\n",
    "      0 & \\; \\text{si} \\ A \\; \\text{es impar,} \\\\\n",
    "      12.0 & \\; \\text{si} \\ A \\; \\text{y} \\; Z \\; \\text{son pares (ambos),} \\\\\n",
    "      -12.0 & \\; \\text{si} \\ A \\; \\text{es par y} \\; Z \\; \\text{impar} \n",
    "    \\end{aligned}\n",
    "  \\right.\n",
    "$\n"
   ]
  },
  {
   "cell_type": "markdown",
   "metadata": {},
   "source": [
    "**a)** Escribe un programa que tome como entrada los valores de $A$ y $Z$, e imprima la energía de enlace $B$ para el átomo correspondiente. Usa tu programa para encontrar la energía de enlace de un átomo con $A=58$ y $Z=28$ (Hint: La respuesta correcta es alrededor de los $490\\,$ MeV)."
   ]
  },
  {
   "cell_type": "code",
   "execution_count": 123,
   "metadata": {},
   "outputs": [
    {
     "name": "stdout",
     "output_type": "stream",
     "text": [
      "La energía aproximada nuclear es 497.5620206224374 GeV\n"
     ]
    }
   ],
   "source": [
    "#Bueno primero declaramos las variables\n",
    "a1, a2, a3,  a4 = 15.8,18.3, 0.714, 23.2 #Obviamente en GeV\n",
    "Z = int(input('Introduce el número atomico:'))\n",
    "A = int(input('Introduce el número de masa:'))\n",
    "#Ahora vamos a hacer un if para los diferentes casos posibles de a5\n",
    "\n",
    "if A % 2 != 0:\n",
    "    a5 = 0\n",
    "elif A % 2 == 0 and Z % 2 == 0:\n",
    "    a5 = 12\n",
    "elif A % 2 == 0 and Z % 2 != 0:\n",
    "    a5 = -12\n",
    "else:\n",
    "    pass\n",
    "#Lo que hicimos fue literal, pedir los valores de las incognitas\n",
    "#aqui solo es cosa de llenar la formula\n",
    "def B(Z, A, a1,a2,a3,a4,a5):\n",
    "    return a1*A-a2*(A**(2/3))-a3*((Z**2)/A**(1/3))-a4*((A-2*Z)**2/(A))+(a5/A**(1/2))\n",
    "#imprimir el resultado lit...\n",
    "print('La energía aproximada nuclear es',B(Z, A, a1,a2,a3,a4,a5),'GeV' )"
   ]
  },
  {
   "cell_type": "markdown",
   "metadata": {},
   "source": [
    "**b)** Modifica el programa del inciso anterior, para escribir una segunda versión que imprima no la energía de enlace total $B$, sino la energía de unión por nucleón, que es $B/A$."
   ]
  },
  {
   "cell_type": "code",
   "execution_count": 124,
   "metadata": {},
   "outputs": [
    {
     "name": "stdout",
     "output_type": "stream",
     "text": [
      "La energía por nucleón es 8.578655527973059 GeV\n"
     ]
    }
   ],
   "source": [
    "a1, a2, a3,  a4 = 15.8,18.3, 0.714, 23.2 \n",
    "Z = int(input('Introduce el número atomico:'))\n",
    "A = int(input('Introduce el número de masa:'))\n",
    "if A % 2 != 0:\n",
    "    a5 = 0\n",
    "elif A % 2 == 0 and Z % 2 == 0:\n",
    "    a5 = 12\n",
    "elif A % 2 == 0 and Z % 2 != 0:\n",
    "    a5 = -12\n",
    "else:\n",
    "    pass\n",
    "def BA(Z, A, a1,a2,a3,a4,a5):\n",
    "    return (a1*A-a2*(A**(2/3))-a3*((Z**2)/A**(1/3))-a4*((A-2*Z)**2/(A))+(a5/A**(1/2)))/A\n",
    "#imprimir el resultado lit...\n",
    "print('La energía por nucleón es',BA(Z, A, a1,a2,a3,a4,a5),'GeV' )"
   ]
  },
  {
   "cell_type": "markdown",
   "metadata": {},
   "source": [
    "**c)** Escribe una tercera versión del programa para que tome como entrada solo un valor del número atómico $Z$ y luego pase por todos los valores de $A$ desde $A=Z$ hasta $A=3Z$, para encontrar el que tiene la mayor energía de enlace por nucleón . Este es el núcleo más estable con el número atómico dado. Haz que tu programa imprima el valor de $A$ para este núcleo más estable y el valor de la energía de enlace por nucleón."
   ]
  },
  {
   "cell_type": "code",
   "execution_count": 125,
   "metadata": {},
   "outputs": [
    {
     "name": "stdout",
     "output_type": "stream",
     "text": [
      "La energía maxima por nucleón es 8.432655535147047 con número de masa  56 .\n"
     ]
    }
   ],
   "source": [
    "a1, a2, a3,  a4 = 15.8,18.3, 0.714, 23.2 \n",
    "Z = int(input('Introduce el número atomico:'))\n",
    "#YOLO, antes habia declarado A, pero como debe estar adentro del loop la quité\n",
    "#bueno, vamos a crear una dictionario con los valores de B/A y A asociado\n",
    "Valores = dict() #aquí usamos un dictionario, porque tenia ganas de usar uno xd\n",
    "for i in range(1,4):\n",
    "    A = Z # reescribimos A con su valor original para cada iteración\n",
    "    A = i*A # si no hacemos esto, el valor de A no se updatea\n",
    "    if A % 2 != 0:\n",
    "        a5 = 0\n",
    "    elif A % 2 == 0 and Z % 2 == 0:\n",
    "        a5 = 12\n",
    "    elif A % 2 == 0 and Z % 2 != 0:\n",
    "        a5 = -12\n",
    "    else:\n",
    "        pass\n",
    "    #pues esto ya despues de que decidimos que a5 usar, entonces\n",
    "    T  = ((a1*A-a2*(A**(2/3))-a3*((Z**2)/A**(1/3))-a4*((A-2*Z)**2/(A))+(a5/A**(1/2)))/A)\n",
    "    Valores[A] = T #un tipo append\n",
    "max_key = max(Valores, key=Valores.get)\n",
    "max_value = Valores[max_key]\n",
    "print('La energía maxima por nucleón es', max_value, 'con número de masa ', max_key, '.')\n"
   ]
  },
  {
   "cell_type": "markdown",
   "metadata": {},
   "source": [
    "**d)** Finalmente, escribe una cuarta versión del programa que, en lugar de tomar $Z$ como entrada, se ejecute a través de todos los valores de $Z$ de 1 a 100 e imprima el valor más estable de $A$ para cada uno. ¿A qué valor de $Z$ se produce la energía de enlace máxima por nucleón? (La respuesta correcta, en la vida real, es $Z=28$, que corresponde al Níquel)."
   ]
  },
  {
   "cell_type": "code",
   "execution_count": 126,
   "metadata": {},
   "outputs": [],
   "source": [
    "a1, a2, a3,  a4 = 15.8,18.3, 0.714, 23.2 \n",
    "\n",
    "#Bueno, aqui si me confundí un poco, pero se arreglo, ahora no podemos ingresar A ni Z, \n",
    "#pero por el inciso anterior, A va de Z a 3Z, y Z va de 1 a 101, es decir, debemos hacer un\n",
    "#doble for loop, pero primero en lugar de usar un diccionario que solo fue un capricho, vamos a usar\n",
    "#comparación de una vez, no hay porque hacer todos los casos (bueno si, pero hay que ahorrarle la chamba al algoritmo)\n",
    "\n",
    "#Queremos encontrar la A, Z que nos de la energía de enlace máxima, entonces:\n",
    "\n",
    "#los contadores globales, son solo para compararlos con los valores ue vamos a obtener para cada combinación de A con Z\n",
    "max_energia, A_estable, Z_estable = 0, 0, 0\n",
    "Wachinango = dict()\n",
    "#Me arrepenti cuando leí bien el ejercicio  decia que para cada Z debiamos encontrar la A estable\n",
    "#ya se la saben, la que provoca mayor energía de enlace por nucleón\n",
    "for Z in range(1, 101):\n",
    "#Estos son los contadores de la Z en turno, y se va a comparar consigo mismos para ver quien es digno \n",
    "#de ocupar de lugar de la global.\n",
    "    max_energia_Z, A_estable_Z = 0, 0\n",
    "    for A in range(Z, 3 * Z + 1):\n",
    "        if A % 2 != 0:\n",
    "            a5 = 0\n",
    "        elif A % 2 == 0 and Z % 2 == 0:\n",
    "            a5 = 12\n",
    "        elif A % 2 == 0 and Z % 2 != 0:\n",
    "            a5 = -12\n",
    "        else:\n",
    "            pass\n",
    "        BA = (a1 * A - a2 * (A ** (2 / 3)) - a3 * ((Z ** 2) / (A ** (1 / 3))) - a4 * (((A - 2 * Z) ** 2) / A) + (a5 / (A ** (1 / 2)))) / A\n",
    "#Aquí vemos la energía que obtuvimos entonces, la remplazamos para la Z en turno        \n",
    "        if BA > max_energia_Z:\n",
    "            max_energia_Z, A_estable_Z = BA, A\n",
    "    P = A_estable_Z\n",
    "    Wachinango[Z] = P\n",
    "# Y aquí es comparación global, despues de haber checado las 3 A posibles            \n",
    "    if max_energia_Z > max_energia:\n",
    "        max_energia, A_estable, Z_estable = max_energia_Z, A_estable_Z, Z"
   ]
  },
  {
   "cell_type": "code",
   "execution_count": 127,
   "metadata": {},
   "outputs": [
    {
     "name": "stdout",
     "output_type": "stream",
     "text": [
      "Z: 1 A: 3\n",
      "Z: 2 A: 4\n",
      "Z: 3 A: 7\n",
      "Z: 4 A: 8\n",
      "Z: 5 A: 11\n",
      "Z: 6 A: 14\n",
      "Z: 7 A: 15\n",
      "Z: 8 A: 18\n",
      "Z: 9 A: 19\n",
      "Z: 10 A: 22\n",
      "Z: 11 A: 25\n",
      "Z: 12 A: 26\n",
      "Z: 13 A: 29\n",
      "Z: 14 A: 30\n",
      "Z: 15 A: 33\n",
      "Z: 16 A: 36\n",
      "Z: 17 A: 37\n",
      "Z: 18 A: 40\n",
      "Z: 19 A: 43\n",
      "Z: 20 A: 44\n",
      "Z: 21 A: 47\n",
      "Z: 22 A: 48\n",
      "Z: 23 A: 51\n",
      "Z: 24 A: 54\n",
      "Z: 25 A: 55\n",
      "Z: 26 A: 58\n",
      "Z: 27 A: 61\n",
      "Z: 28 A: 62\n",
      "Z: 29 A: 65\n",
      "Z: 30 A: 68\n",
      "Z: 31 A: 69\n",
      "Z: 32 A: 72\n",
      "Z: 33 A: 75\n",
      "Z: 34 A: 76\n",
      "Z: 35 A: 79\n",
      "Z: 36 A: 82\n",
      "Z: 37 A: 85\n",
      "Z: 38 A: 86\n",
      "Z: 39 A: 89\n",
      "Z: 40 A: 92\n",
      "Z: 41 A: 93\n",
      "Z: 42 A: 96\n",
      "Z: 43 A: 99\n",
      "Z: 44 A: 102\n",
      "Z: 45 A: 103\n",
      "Z: 46 A: 106\n",
      "Z: 47 A: 109\n",
      "Z: 48 A: 110\n",
      "Z: 49 A: 113\n",
      "Z: 50 A: 116\n",
      "Z: 51 A: 119\n",
      "Z: 52 A: 120\n",
      "Z: 53 A: 123\n",
      "Z: 54 A: 126\n",
      "Z: 55 A: 129\n",
      "Z: 56 A: 130\n",
      "Z: 57 A: 133\n",
      "Z: 58 A: 136\n",
      "Z: 59 A: 139\n",
      "Z: 60 A: 140\n",
      "Z: 61 A: 143\n",
      "Z: 62 A: 146\n",
      "Z: 63 A: 149\n",
      "Z: 64 A: 150\n",
      "Z: 65 A: 153\n",
      "Z: 66 A: 156\n",
      "Z: 67 A: 159\n",
      "Z: 68 A: 162\n",
      "Z: 69 A: 163\n",
      "Z: 70 A: 166\n",
      "Z: 71 A: 169\n",
      "Z: 72 A: 172\n",
      "Z: 73 A: 175\n",
      "Z: 74 A: 176\n",
      "Z: 75 A: 179\n",
      "Z: 76 A: 182\n",
      "Z: 77 A: 185\n",
      "Z: 78 A: 188\n",
      "Z: 79 A: 191\n",
      "Z: 80 A: 192\n",
      "Z: 81 A: 195\n",
      "Z: 82 A: 198\n",
      "Z: 83 A: 201\n",
      "Z: 84 A: 204\n",
      "Z: 85 A: 205\n",
      "Z: 86 A: 208\n",
      "Z: 87 A: 211\n",
      "Z: 88 A: 214\n",
      "Z: 89 A: 217\n",
      "Z: 90 A: 220\n",
      "Z: 91 A: 223\n",
      "Z: 92 A: 224\n",
      "Z: 93 A: 227\n",
      "Z: 94 A: 230\n",
      "Z: 95 A: 233\n",
      "Z: 96 A: 236\n",
      "Z: 97 A: 239\n",
      "Z: 98 A: 242\n",
      "Z: 99 A: 243\n",
      "Z: 100 A: 246\n"
     ]
    }
   ],
   "source": [
    "for key, value in Wachinango.items():\n",
    "    print('Z:', key , 'A:' ,value)"
   ]
  },
  {
   "cell_type": "code",
   "execution_count": 128,
   "metadata": {},
   "outputs": [
    {
     "name": "stdout",
     "output_type": "stream",
     "text": [
      "Máxima energía de enlace por nucleón con  Z = 28 y A = 62\n",
      "Valor máximo de la energía de enlace por nucleón:  8.70245768367189 GeV\n"
     ]
    }
   ],
   "source": [
    "print('Máxima energía de enlace por nucleón con  Z =',Z_estable,'y ''A =', A_estable)\n",
    "print('Valor máximo de la energía de enlace por nucleón: ', max_energia , 'GeV')"
   ]
  }
 ],
 "metadata": {
  "kernelspec": {
   "display_name": "base",
   "language": "python",
   "name": "python3"
  },
  "language_info": {
   "codemirror_mode": {
    "name": "ipython",
    "version": 3
   },
   "file_extension": ".py",
   "mimetype": "text/x-python",
   "name": "python",
   "nbconvert_exporter": "python",
   "pygments_lexer": "ipython3",
   "version": "3.11.4"
  }
 },
 "nbformat": 4,
 "nbformat_minor": 4
}
