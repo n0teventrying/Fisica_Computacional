{
 "cells": [
  {
   "cell_type": "code",
   "execution_count": 8,
   "metadata": {},
   "outputs": [],
   "source": [
    "# 5. Constante de Desplazamiento de Wien"
   ]
  },
  {
   "cell_type": "code",
   "execution_count": 9,
   "metadata": {},
   "outputs": [],
   "source": [
    "# a) Está en el PDF adjunto"
   ]
  },
  {
   "cell_type": "code",
   "execution_count": 10,
   "metadata": {},
   "outputs": [],
   "source": [
    "import math\n",
    "#re adictivo esto de solo importar lo que se ocupa"
   ]
  },
  {
   "cell_type": "code",
   "execution_count": 11,
   "metadata": {},
   "outputs": [
    {
     "name": "stdout",
     "output_type": "stream",
     "text": [
      "4.9651142954826355\n",
      "0.0028977728773268117\n"
     ]
    }
   ],
   "source": [
    "# b)\n",
    "def f(x):\n",
    "    return 5*math.exp(-x) + x - 5\n",
    "\n",
    "def BS(a, b, error=1e-6):\n",
    "    while b - a > error:\n",
    "        mid = (a + b) / 2\n",
    "        if f(mid) > 0:\n",
    "            b = mid\n",
    "        else:\n",
    "            a = mid\n",
    "    return (a + b) / 2\n",
    "x = BS(0, 10, error=1e-6)\n",
    "print(x)\n",
    "\n",
    "def b(x):\n",
    "    h = 6.62607004e-34 #h sin barra, así es\n",
    "    c = 299792458 \n",
    "    k_B = 1.38064852e-23  \n",
    "    b = h * c / (k_B * x)\n",
    "    return b\n",
    "print(b(x))\n",
    "    "
   ]
  },
  {
   "cell_type": "code",
   "execution_count": 12,
   "metadata": {},
   "outputs": [],
   "source": [
    "# c) \n",
    "def TemperaturaSol(L):\n",
    "    b = 0.0028977728773268117\n",
    "    T = b/L\n",
    "    return T"
   ]
  },
  {
   "cell_type": "code",
   "execution_count": 13,
   "metadata": {},
   "outputs": [
    {
     "name": "stdout",
     "output_type": "stream",
     "text": [
      "5772.455930929904 K\n"
     ]
    }
   ],
   "source": [
    "print(TemperaturaSol(502e-9), \"K\")"
   ]
  },
  {
   "cell_type": "code",
   "execution_count": 14,
   "metadata": {},
   "outputs": [],
   "source": [
    "#si le pones 500 nm, da más cerca de los 5800K que dice Google."
   ]
  }
 ],
 "metadata": {
  "kernelspec": {
   "display_name": "base",
   "language": "python",
   "name": "python3"
  },
  "language_info": {
   "codemirror_mode": {
    "name": "ipython",
    "version": 3
   },
   "file_extension": ".py",
   "mimetype": "text/x-python",
   "name": "python",
   "nbconvert_exporter": "python",
   "pygments_lexer": "ipython3",
   "version": "3.11.4"
  }
 },
 "nbformat": 4,
 "nbformat_minor": 2
}
